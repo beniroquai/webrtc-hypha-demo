{
 "cells": [
  {
   "cell_type": "code",
   "execution_count": 5,
   "metadata": {},
   "outputs": [],
   "source": []
  },
  {
   "cell_type": "markdown",
   "metadata": {},
   "source": [
    "# This is ImSwitch"
   ]
  },
  {
   "cell_type": "code",
   "execution_count": 3,
   "metadata": {},
   "outputs": [
    {
     "name": "stdout",
     "output_type": "stream",
     "text": [
      "Collecting imjoy-jupyter-extension\n",
      "  Using cached imjoy_jupyter_extension-0.3.0-py3-none-any.whl (39 kB)\n",
      "Requirement already satisfied: notebook>=5.3 in /opt/anaconda3/envs/imswitch/lib/python3.8/site-packages (from imjoy-jupyter-extension) (6.4.5)\n",
      "Requirement already satisfied: imjoy-rpc>=0.3.35 in /opt/anaconda3/envs/imswitch/lib/python3.8/site-packages (from imjoy-jupyter-extension) (0.5.13)\n",
      "Requirement already satisfied: shortuuid>=1.0.8 in /opt/anaconda3/envs/imswitch/lib/python3.8/site-packages (from imjoy-rpc>=0.3.35->imjoy-jupyter-extension) (1.0.9)\n",
      "Requirement already satisfied: websockets in /opt/anaconda3/envs/imswitch/lib/python3.8/site-packages (from imjoy-rpc>=0.3.35->imjoy-jupyter-extension) (10.0)\n",
      "Requirement already satisfied: msgpack>=1.0.2 in /opt/anaconda3/envs/imswitch/lib/python3.8/site-packages (from imjoy-rpc>=0.3.35->imjoy-jupyter-extension) (1.0.3)\n",
      "Requirement already satisfied: ipykernel in /opt/anaconda3/envs/imswitch/lib/python3.8/site-packages (from notebook>=5.3->imjoy-jupyter-extension) (6.4.2)\n",
      "Requirement already satisfied: jupyter-core>=4.6.1 in /opt/anaconda3/envs/imswitch/lib/python3.8/site-packages (from notebook>=5.3->imjoy-jupyter-extension) (4.8.1)\n",
      "Requirement already satisfied: jupyter-client>=5.3.4 in /opt/anaconda3/envs/imswitch/lib/python3.8/site-packages (from notebook>=5.3->imjoy-jupyter-extension) (7.0.6)\n",
      "Requirement already satisfied: jinja2 in /opt/anaconda3/envs/imswitch/lib/python3.8/site-packages (from notebook>=5.3->imjoy-jupyter-extension) (2.11.3)\n",
      "Requirement already satisfied: argon2-cffi in /opt/anaconda3/envs/imswitch/lib/python3.8/site-packages (from notebook>=5.3->imjoy-jupyter-extension) (21.1.0)\n",
      "Requirement already satisfied: nbformat in /opt/anaconda3/envs/imswitch/lib/python3.8/site-packages (from notebook>=5.3->imjoy-jupyter-extension) (5.1.3)\n",
      "Requirement already satisfied: tornado>=6.1 in /opt/anaconda3/envs/imswitch/lib/python3.8/site-packages (from notebook>=5.3->imjoy-jupyter-extension) (6.1)\n",
      "Requirement already satisfied: terminado>=0.8.3 in /opt/anaconda3/envs/imswitch/lib/python3.8/site-packages (from notebook>=5.3->imjoy-jupyter-extension) (0.12.1)\n",
      "Requirement already satisfied: Send2Trash>=1.5.0 in /opt/anaconda3/envs/imswitch/lib/python3.8/site-packages (from notebook>=5.3->imjoy-jupyter-extension) (1.8.0)\n",
      "Requirement already satisfied: prometheus-client in /opt/anaconda3/envs/imswitch/lib/python3.8/site-packages (from notebook>=5.3->imjoy-jupyter-extension) (0.11.0)\n",
      "Requirement already satisfied: nbconvert in /opt/anaconda3/envs/imswitch/lib/python3.8/site-packages (from notebook>=5.3->imjoy-jupyter-extension) (6.2.0)\n",
      "Requirement already satisfied: traitlets>=4.2.1 in /opt/anaconda3/envs/imswitch/lib/python3.8/site-packages (from notebook>=5.3->imjoy-jupyter-extension) (5.1.0)\n",
      "Requirement already satisfied: ipython-genutils in /opt/anaconda3/envs/imswitch/lib/python3.8/site-packages (from notebook>=5.3->imjoy-jupyter-extension) (0.2.0)\n",
      "Requirement already satisfied: pyzmq>=17 in /opt/anaconda3/envs/imswitch/lib/python3.8/site-packages (from notebook>=5.3->imjoy-jupyter-extension) (22.3.0)\n",
      "Requirement already satisfied: python-dateutil>=2.1 in /opt/anaconda3/envs/imswitch/lib/python3.8/site-packages (from jupyter-client>=5.3.4->notebook>=5.3->imjoy-jupyter-extension) (2.8.2)\n",
      "Requirement already satisfied: entrypoints in /opt/anaconda3/envs/imswitch/lib/python3.8/site-packages (from jupyter-client>=5.3.4->notebook>=5.3->imjoy-jupyter-extension) (0.3)\n",
      "Requirement already satisfied: nest-asyncio>=1.5 in /opt/anaconda3/envs/imswitch/lib/python3.8/site-packages (from jupyter-client>=5.3.4->notebook>=5.3->imjoy-jupyter-extension) (1.5.1)\n",
      "Requirement already satisfied: ptyprocess in /opt/anaconda3/envs/imswitch/lib/python3.8/site-packages (from terminado>=0.8.3->notebook>=5.3->imjoy-jupyter-extension) (0.7.0)\n",
      "Requirement already satisfied: cffi>=1.0.0 in /opt/anaconda3/envs/imswitch/lib/python3.8/site-packages (from argon2-cffi->notebook>=5.3->imjoy-jupyter-extension) (1.15.0)\n",
      "Requirement already satisfied: debugpy<2.0,>=1.0.0 in /opt/anaconda3/envs/imswitch/lib/python3.8/site-packages (from ipykernel->notebook>=5.3->imjoy-jupyter-extension) (1.5.1)\n",
      "Requirement already satisfied: matplotlib-inline<0.2.0,>=0.1.0 in /opt/anaconda3/envs/imswitch/lib/python3.8/site-packages (from ipykernel->notebook>=5.3->imjoy-jupyter-extension) (0.1.3)\n",
      "Requirement already satisfied: appnope in /opt/anaconda3/envs/imswitch/lib/python3.8/site-packages (from ipykernel->notebook>=5.3->imjoy-jupyter-extension) (0.1.2)\n",
      "Requirement already satisfied: ipython<8.0,>=7.23.1 in /opt/anaconda3/envs/imswitch/lib/python3.8/site-packages (from ipykernel->notebook>=5.3->imjoy-jupyter-extension) (7.28.0)\n",
      "Requirement already satisfied: MarkupSafe>=0.23 in /opt/anaconda3/envs/imswitch/lib/python3.8/site-packages (from jinja2->notebook>=5.3->imjoy-jupyter-extension) (2.0.1)\n",
      "Requirement already satisfied: bleach in /opt/anaconda3/envs/imswitch/lib/python3.8/site-packages (from nbconvert->notebook>=5.3->imjoy-jupyter-extension) (4.1.0)\n",
      "Requirement already satisfied: pandocfilters>=1.4.1 in /opt/anaconda3/envs/imswitch/lib/python3.8/site-packages (from nbconvert->notebook>=5.3->imjoy-jupyter-extension) (1.5.0)\n",
      "Requirement already satisfied: testpath in /opt/anaconda3/envs/imswitch/lib/python3.8/site-packages (from nbconvert->notebook>=5.3->imjoy-jupyter-extension) (0.5.0)\n",
      "Requirement already satisfied: jupyterlab-pygments in /opt/anaconda3/envs/imswitch/lib/python3.8/site-packages (from nbconvert->notebook>=5.3->imjoy-jupyter-extension) (0.1.2)\n",
      "Requirement already satisfied: nbclient<0.6.0,>=0.5.0 in /opt/anaconda3/envs/imswitch/lib/python3.8/site-packages (from nbconvert->notebook>=5.3->imjoy-jupyter-extension) (0.5.4)\n",
      "Requirement already satisfied: pygments>=2.4.1 in /opt/anaconda3/envs/imswitch/lib/python3.8/site-packages (from nbconvert->notebook>=5.3->imjoy-jupyter-extension) (2.10.0)\n",
      "Requirement already satisfied: mistune<2,>=0.8.1 in /opt/anaconda3/envs/imswitch/lib/python3.8/site-packages (from nbconvert->notebook>=5.3->imjoy-jupyter-extension) (0.8.4)\n",
      "Requirement already satisfied: defusedxml in /opt/anaconda3/envs/imswitch/lib/python3.8/site-packages (from nbconvert->notebook>=5.3->imjoy-jupyter-extension) (0.7.1)\n",
      "Requirement already satisfied: jsonschema!=2.5.0,>=2.4 in /opt/anaconda3/envs/imswitch/lib/python3.8/site-packages (from nbformat->notebook>=5.3->imjoy-jupyter-extension) (4.1.0)\n",
      "Requirement already satisfied: pycparser in /opt/anaconda3/envs/imswitch/lib/python3.8/site-packages (from cffi>=1.0.0->argon2-cffi->notebook>=5.3->imjoy-jupyter-extension) (2.20)\n",
      "Requirement already satisfied: setuptools>=18.5 in /opt/anaconda3/envs/imswitch/lib/python3.8/site-packages (from ipython<8.0,>=7.23.1->ipykernel->notebook>=5.3->imjoy-jupyter-extension) (58.5.3)\n",
      "Requirement already satisfied: backcall in /opt/anaconda3/envs/imswitch/lib/python3.8/site-packages (from ipython<8.0,>=7.23.1->ipykernel->notebook>=5.3->imjoy-jupyter-extension) (0.2.0)\n",
      "Requirement already satisfied: prompt-toolkit!=3.0.0,!=3.0.1,<3.1.0,>=2.0.0 in /opt/anaconda3/envs/imswitch/lib/python3.8/site-packages (from ipython<8.0,>=7.23.1->ipykernel->notebook>=5.3->imjoy-jupyter-extension) (3.0.20)\n",
      "Requirement already satisfied: pickleshare in /opt/anaconda3/envs/imswitch/lib/python3.8/site-packages (from ipython<8.0,>=7.23.1->ipykernel->notebook>=5.3->imjoy-jupyter-extension) (0.7.5)\n",
      "Requirement already satisfied: decorator in /opt/anaconda3/envs/imswitch/lib/python3.8/site-packages (from ipython<8.0,>=7.23.1->ipykernel->notebook>=5.3->imjoy-jupyter-extension) (5.1.0)\n",
      "Requirement already satisfied: pexpect>4.3 in /opt/anaconda3/envs/imswitch/lib/python3.8/site-packages (from ipython<8.0,>=7.23.1->ipykernel->notebook>=5.3->imjoy-jupyter-extension) (4.8.0)\n",
      "Requirement already satisfied: jedi>=0.16 in /opt/anaconda3/envs/imswitch/lib/python3.8/site-packages (from ipython<8.0,>=7.23.1->ipykernel->notebook>=5.3->imjoy-jupyter-extension) (0.18.0)\n",
      "Requirement already satisfied: pyrsistent!=0.17.0,!=0.17.1,!=0.17.2,>=0.14.0 in /opt/anaconda3/envs/imswitch/lib/python3.8/site-packages (from jsonschema!=2.5.0,>=2.4->nbformat->notebook>=5.3->imjoy-jupyter-extension) (0.18.0)\n",
      "Requirement already satisfied: attrs>=17.4.0 in /opt/anaconda3/envs/imswitch/lib/python3.8/site-packages (from jsonschema!=2.5.0,>=2.4->nbformat->notebook>=5.3->imjoy-jupyter-extension) (21.2.0)\n"
     ]
    },
    {
     "name": "stdout",
     "output_type": "stream",
     "text": [
      "Requirement already satisfied: six>=1.5 in /opt/anaconda3/envs/imswitch/lib/python3.8/site-packages (from python-dateutil>=2.1->jupyter-client>=5.3.4->notebook>=5.3->imjoy-jupyter-extension) (1.16.0)\n",
      "Requirement already satisfied: packaging in /opt/anaconda3/envs/imswitch/lib/python3.8/site-packages (from bleach->nbconvert->notebook>=5.3->imjoy-jupyter-extension) (21.0)\n",
      "Requirement already satisfied: webencodings in /opt/anaconda3/envs/imswitch/lib/python3.8/site-packages (from bleach->nbconvert->notebook>=5.3->imjoy-jupyter-extension) (0.5.1)\n",
      "Requirement already satisfied: parso<0.9.0,>=0.8.0 in /opt/anaconda3/envs/imswitch/lib/python3.8/site-packages (from jedi>=0.16->ipython<8.0,>=7.23.1->ipykernel->notebook>=5.3->imjoy-jupyter-extension) (0.8.2)\n",
      "Requirement already satisfied: wcwidth in /opt/anaconda3/envs/imswitch/lib/python3.8/site-packages (from prompt-toolkit!=3.0.0,!=3.0.1,<3.1.0,>=2.0.0->ipython<8.0,>=7.23.1->ipykernel->notebook>=5.3->imjoy-jupyter-extension) (0.2.5)\n",
      "Requirement already satisfied: pyparsing>=2.0.2 in /opt/anaconda3/envs/imswitch/lib/python3.8/site-packages (from packaging->bleach->nbconvert->notebook>=5.3->imjoy-jupyter-extension) (2.4.7)\n",
      "Installing collected packages: imjoy-jupyter-extension\n",
      "Successfully installed imjoy-jupyter-extension-0.3.0\n",
      "\u001b[33mWARNING: You are using pip version 21.3.1; however, version 22.1 is available.\n",
      "You should consider upgrading via the '/opt/anaconda3/envs/imswitch/bin/python -m pip install --upgrade pip' command.\u001b[0m\n"
     ]
    }
   ],
   "source": [
    "#!pip install imjoy-rpc\n",
    "#!pip install imjoy-jupyter-extension"
   ]
  },
  {
   "cell_type": "code",
   "execution_count": null,
   "metadata": {},
   "outputs": [],
   "source": []
  },
  {
   "cell_type": "code",
   "execution_count": 4,
   "metadata": {},
   "outputs": [
    {
     "ename": "IndexError",
     "evalue": "list index out of range",
     "output_type": "error",
     "traceback": [
      "\u001b[0;31m---------------------------------------------------------------------------\u001b[0m",
      "\u001b[0;31mIndexError\u001b[0m                                Traceback (most recent call last)",
      "\u001b[0;32m/var/folders/4w/k4yhf14j7xsbp2jd85yk555r0000gn/T/ipykernel_30556/1703371214.py\u001b[0m in \u001b[0;36m<module>\u001b[0;34m\u001b[0m\n\u001b[1;32m     16\u001b[0m \u001b[0;34m\u001b[0m\u001b[0m\n\u001b[1;32m     17\u001b[0m \u001b[0mpublic_services\u001b[0m \u001b[0;34m=\u001b[0m \u001b[0;32mawait\u001b[0m \u001b[0mserver\u001b[0m\u001b[0;34m.\u001b[0m\u001b[0mlist_services\u001b[0m\u001b[0;34m(\u001b[0m\u001b[0;34m\"public\"\u001b[0m\u001b[0;34m)\u001b[0m\u001b[0;34m\u001b[0m\u001b[0;34m\u001b[0m\u001b[0m\n\u001b[0;32m---> 18\u001b[0;31m \u001b[0msvc_info\u001b[0m \u001b[0;34m=\u001b[0m \u001b[0mlist\u001b[0m\u001b[0;34m(\u001b[0m\u001b[0mfilter\u001b[0m\u001b[0;34m(\u001b[0m\u001b[0;32mlambda\u001b[0m \u001b[0mservice\u001b[0m\u001b[0;34m:\u001b[0m \u001b[0mservice\u001b[0m\u001b[0;34m[\u001b[0m\u001b[0;34m\"type\"\u001b[0m\u001b[0;34m]\u001b[0m \u001b[0;34m==\u001b[0m \u001b[0;34m\"test-display\"\u001b[0m\u001b[0;34m,\u001b[0m \u001b[0mpublic_services\u001b[0m\u001b[0;34m)\u001b[0m\u001b[0;34m)\u001b[0m\u001b[0;34m[\u001b[0m\u001b[0;34m-\u001b[0m\u001b[0;36m1\u001b[0m\u001b[0;34m]\u001b[0m\u001b[0;34m\u001b[0m\u001b[0;34m\u001b[0m\u001b[0m\n\u001b[0m\u001b[1;32m     19\u001b[0m \u001b[0msvc\u001b[0m \u001b[0;34m=\u001b[0m \u001b[0;32mawait\u001b[0m \u001b[0mserver\u001b[0m\u001b[0;34m.\u001b[0m\u001b[0mget_service\u001b[0m\u001b[0;34m(\u001b[0m\u001b[0msvc_info\u001b[0m\u001b[0;34m)\u001b[0m\u001b[0;34m\u001b[0m\u001b[0;34m\u001b[0m\u001b[0m\n\u001b[1;32m     20\u001b[0m \u001b[0;34m\u001b[0m\u001b[0m\n",
      "\u001b[0;31mIndexError\u001b[0m: list index out of range"
     ]
    }
   ],
   "source": [
    "import numpy as np\n",
    "import matplotlib.pyplot as plt\n",
    "import base64\n",
    "import skimage\n",
    "import io\n",
    "\n",
    "import io\n",
    "import imageio\n",
    "\n",
    "\n",
    "from imjoy_rpc.hypha import connect_to_server\n",
    "\n",
    "server = await connect_to_server(\n",
    "    {\"name\": \"test client\", \"server_url\": \"https://ai.imjoy.io\"}\n",
    ")\n",
    "\n",
    "public_services = await server.list_services(\"public\")\n",
    "svc_info = list(filter(lambda service: service[\"type\"] == \"test-display\", public_services))[-1]\n",
    "svc = await server.get_service(svc_info)\n",
    "\n",
    "await svc.show_status('hello from python')\n",
    "\n",
    "\n",
    "image = skimage.data.astronaut()\n",
    "plt.imshow(image)\n",
    "plt.show()\n",
    "\n",
    "\n",
    "with io.BytesIO() as output:\n",
    "    imageio.imwrite(output, image, format='png')\n",
    "    output.seek(0)\n",
    "    data = output.read()\n",
    "    result = base64.b64encode(data).decode('ascii')\n",
    "    encoded_image = 'data:image/png;base64,' + result"
   ]
  },
  {
   "cell_type": "code",
   "execution_count": 137,
   "metadata": {},
   "outputs": [
    {
     "data": {
      "text/plain": [
       "{'id': 'CE6UPFF5d9a65nrRArakT8/fjpZHHF4aggPgJHqLrEZd3:led',\n",
       " 'type': 'led',\n",
       " 'name': 'led',\n",
       " 'config': {'visibility': 'public', 'workspace': 'CE6UPFF5d9a65nrRArakT8'}}"
      ]
     },
     "execution_count": 136,
     "metadata": {},
     "output_type": "execute_result"
    }
   ],
   "source": [
    "async def turn_on():\n",
    "    await svc.show_status(\"turn 222\")\n",
    "\n",
    "led_svc_info = await server.register_service({\n",
    "    \"id\": \"led\",\n",
    "    \"type\": \"led\",\n",
    "    \"name\": \"led\",\n",
    "    \"config\": {\"visibility\": \"public\"},\n",
    "    \"turn_on\": turn_on\n",
    "}, overwrite=True)\n",
    "\n",
    "led_svc_info"
   ]
  },
  {
   "cell_type": "code",
   "execution_count": 138,
   "metadata": {},
   "outputs": [],
   "source": [
    "svc_led = await server.get_service(led_svc_info)"
   ]
  },
  {
   "cell_type": "code",
   "execution_count": 139,
   "metadata": {},
   "outputs": [],
   "source": [
    "await svc.add_button(\"my button\", svc_led)"
   ]
  },
  {
   "cell_type": "code",
   "execution_count": 108,
   "metadata": {},
   "outputs": [],
   "source": [
    "await svc.show_status('hello from method')"
   ]
  },
  {
   "cell_type": "code",
   "execution_count": 54,
   "metadata": {},
   "outputs": [],
   "source": [
    "for i in range(100):\n",
    "    length = int(random.random() * 10000)\n",
    "    await svc.display_image(encoded_image[:90000 + length])"
   ]
  },
  {
   "cell_type": "code",
   "execution_count": null,
   "metadata": {},
   "outputs": [],
   "source": [
    "\n",
    "\n",
    "```"
   ]
  }
 ],
 "metadata": {
  "kernelspec": {
   "display_name": "Python 3 (ipykernel)",
   "language": "python",
   "name": "python3"
  },
  "language_info": {
   "codemirror_mode": {
    "name": "ipython",
    "version": 3
   },
   "file_extension": ".py",
   "mimetype": "text/x-python",
   "name": "python",
   "nbconvert_exporter": "python",
   "pygments_lexer": "ipython3",
   "version": "3.8.12"
  }
 },
 "nbformat": 4,
 "nbformat_minor": 4
}
